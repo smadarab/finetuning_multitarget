{
 "cells": [
  {
   "cell_type": "code",
   "execution_count": 1,
   "id": "8413c59d-b45c-48b5-994f-69a200b20e7a",
   "metadata": {},
   "outputs": [
    {
     "name": "stdout",
     "output_type": "stream",
     "text": [
      "Total records: 22652\n"
     ]
    }
   ],
   "source": [
    "import pandas as pd\n",
    "import glob\n",
    "import numpy as np\n",
    "\n",
    "# Assuming all files are in the same directory and follow the same naming pattern\n",
    "# Adjust the path and pattern as needed\n",
    "file_pattern = 'F:/finetunining sample/Spring_JIRA_Bug_Dataset_new/Spring_JIRA_Bug_Dataset/*.csv'\n",
    "\n",
    "# Get a list of all CSV files\n",
    "all_files = glob.glob(file_pattern)\n",
    "\n",
    "# Load and concatenate all files into a single DataFrame\n",
    "df_list = [pd.read_csv(file) for file in all_files]\n",
    "data = pd.concat(df_list, ignore_index=True)\n",
    "\n",
    "# Check the shape of the concatenated DataFrame\n",
    "print(f\"Total records: {data.shape[0]}\")\n"
   ]
  },
  {
   "cell_type": "code",
   "execution_count": null,
   "id": "0ce158d2-eb79-4eeb-b656-d96737a650b5",
   "metadata": {},
   "outputs": [],
   "source": []
  },
  {
   "cell_type": "code",
   "execution_count": 2,
   "id": "5b229bdd-e04a-4b42-aa69-804439652396",
   "metadata": {},
   "outputs": [
    {
     "name": "stderr",
     "output_type": "stream",
     "text": [
      "C:\\Users\\E009819\\AppData\\Local\\Temp\\2\\ipykernel_7360\\999239220.py:1: FutureWarning: A value is trying to be set on a copy of a DataFrame or Series through chained assignment using an inplace method.\n",
      "The behavior will change in pandas 3.0. This inplace method will never work because the intermediate object on which we are setting values always behaves as a copy.\n",
      "\n",
      "For example, when doing 'df[col].method(value, inplace=True)', try using 'df.method({col: value}, inplace=True)' or df[col] = df[col].method(value) instead, to perform the operation inplace on the original object.\n",
      "\n",
      "\n",
      "  data['Description'].fillna('', inplace=True)\n"
     ]
    }
   ],
   "source": [
    "data['Description'].fillna('', inplace=True)"
   ]
  },
  {
   "cell_type": "code",
   "execution_count": null,
   "id": "d9b297e8-53bd-4011-ad87-aa2bc284bfcd",
   "metadata": {},
   "outputs": [],
   "source": []
  },
  {
   "cell_type": "code",
   "execution_count": 3,
   "id": "52ae4cbb-31f9-4359-818b-8874b808d355",
   "metadata": {},
   "outputs": [
    {
     "data": {
      "text/html": [
       "<div>\n",
       "<style scoped>\n",
       "    .dataframe tbody tr th:only-of-type {\n",
       "        vertical-align: middle;\n",
       "    }\n",
       "\n",
       "    .dataframe tbody tr th {\n",
       "        vertical-align: top;\n",
       "    }\n",
       "\n",
       "    .dataframe thead th {\n",
       "        text-align: right;\n",
       "    }\n",
       "</style>\n",
       "<table border=\"1\" class=\"dataframe\">\n",
       "  <thead>\n",
       "    <tr style=\"text-align: right;\">\n",
       "      <th></th>\n",
       "      <th>Summary</th>\n",
       "      <th>Issue key</th>\n",
       "      <th>Issue id</th>\n",
       "      <th>Issue Type</th>\n",
       "      <th>Status</th>\n",
       "      <th>Project key</th>\n",
       "      <th>Project name</th>\n",
       "      <th>Project type</th>\n",
       "      <th>Project lead</th>\n",
       "      <th>Project description</th>\n",
       "      <th>...</th>\n",
       "      <th>Affects Version/s.24</th>\n",
       "      <th>Affects Version/s.25</th>\n",
       "      <th>Affects Version/s.26</th>\n",
       "      <th>Affects Version/s.27</th>\n",
       "      <th>Affects Version/s.28</th>\n",
       "      <th>Component/s.7</th>\n",
       "      <th>Component/s.8</th>\n",
       "      <th>Component/s.9</th>\n",
       "      <th>Component/s.10</th>\n",
       "      <th>Component/s.11</th>\n",
       "    </tr>\n",
       "  </thead>\n",
       "  <tbody>\n",
       "  </tbody>\n",
       "</table>\n",
       "<p>0 rows × 296 columns</p>\n",
       "</div>"
      ],
      "text/plain": [
       "Empty DataFrame\n",
       "Columns: [Summary, Issue key, Issue id, Issue Type, Status, Project key, Project name, Project type, Project lead, Project description, Project url, Priority, Resolution, Assignee, Reporter, Creator, Created, Updated, Last Viewed, Resolved, Affects Version/s, Affects Version/s.1, Affects Version/s.2, Affects Version/s.3, Affects Version/s.4, Fix Version/s, Fix Version/s.1, Component/s, Component/s.1, Component/s.2, Component/s.3, Component/s.4, Due Date, Votes, Labels, Labels.1, Labels.2, Labels.3, Labels.4, Labels.5, Description, Environment, Log Work, Original Estimate, Remaining Estimate, Time Spent, Work Ratio, Σ Original Estimate, Σ Remaining Estimate, Σ Time Spent, Security Level, Inward issue link (Depend), Inward issue link (Depends), Inward issue link (Depends).1, Outward issue link (Depends), Outward issue link (Depends).1, Outward issue link (Depends).2, Inward issue link (Duplicate), Outward issue link (Duplicate), Outward issue link (Duplicate).1, Inward issue link (Relate), Outward issue link (Relate), Inward issue link (Related), Inward issue link (Related).1, Outward issue link (Related), Outward issue link (Related).1, Inward issue link (Supersede), Inward issue link (Supersede).1, Attachment, Attachment.1, Attachment.2, Attachment.3, Attachment.4, Attachment.5, Attachment.6, Attachment.7, Attachment.8, Attachment.9, Custom field (Acceptance Criteria), Custom field (Actual Story Points), Custom field (Days since last comment), Custom field (Epic Link), Custom field (First Response Date), Custom field (Global Rank), Custom field (Last commented by a User), Custom field (Last updater), Custom field (Out of Scope), Custom field (Platform), Custom field (Pull Request URL), Custom field (Rank), Custom field (Rank (Obsolete)), Custom field (Ranking), Custom field (Reference URL), Custom field (Spring Forum Reference), Custom field (Story Points), Custom field (Virtual Machine), Comment, Comment.1, Comment.2, Comment.3, ...]\n",
       "Index: []\n",
       "\n",
       "[0 rows x 296 columns]"
      ]
     },
     "execution_count": 3,
     "metadata": {},
     "output_type": "execute_result"
    }
   ],
   "source": [
    "data[((data['Description'].isna()) | (data['Summary'].isna())) & (data['Priority'].notna())]"
   ]
  },
  {
   "cell_type": "code",
   "execution_count": 4,
   "id": "404e2a53-4a3b-4a16-92cc-7289fe73b18f",
   "metadata": {},
   "outputs": [],
   "source": [
    "# Drop columns with 100% null values\n",
    "data = data.dropna(axis=1, how='all')"
   ]
  },
  {
   "cell_type": "code",
   "execution_count": 5,
   "id": "7f9bdec7-ac9a-44be-93b3-953b09433e76",
   "metadata": {},
   "outputs": [],
   "source": [
    "#df = data[['Summary','Priority','Created','Resolved',\"Description\"]]\n",
    "\n",
    "df = data[['Summary','Priority','Created','Resolved']]"
   ]
  },
  {
   "cell_type": "code",
   "execution_count": 6,
   "id": "1127f7b2-4dca-4838-be1f-3506821e0f47",
   "metadata": {},
   "outputs": [
    {
     "name": "stderr",
     "output_type": "stream",
     "text": [
      "C:\\Users\\E009819\\AppData\\Local\\Temp\\2\\ipykernel_7360\\1828126824.py:3: SettingWithCopyWarning: \n",
      "A value is trying to be set on a copy of a slice from a DataFrame.\n",
      "Try using .loc[row_indexer,col_indexer] = value instead\n",
      "\n",
      "See the caveats in the documentation: https://pandas.pydata.org/pandas-docs/stable/user_guide/indexing.html#returning-a-view-versus-a-copy\n",
      "  df['input_text'] = df['Summary']\n"
     ]
    }
   ],
   "source": [
    "#df['input_text'] = df['Summary'] + ' ' + df['Description']\n",
    "\n",
    "df['input_text'] = df['Summary'] "
   ]
  },
  {
   "cell_type": "code",
   "execution_count": 7,
   "id": "73cfa3ec-65a6-4551-8dea-65c09a0f8015",
   "metadata": {},
   "outputs": [],
   "source": [
    "#df = df.drop(['Summary','Description'],axis=1)\n",
    "\n",
    "\n",
    "df = df.drop(['Summary'],axis=1)"
   ]
  },
  {
   "cell_type": "code",
   "execution_count": 8,
   "id": "c3c33201-385a-4a5a-b7a4-a84fbb1da6ef",
   "metadata": {},
   "outputs": [],
   "source": [
    "priority_mapping = {\n",
    "    'Critical': 'High',\n",
    "    'Blocker': 'High',\n",
    "    'Major': 'Medium',\n",
    "    'Minor': 'Low',\n",
    "    'Trivial': 'Low'\n",
    "}"
   ]
  },
  {
   "cell_type": "code",
   "execution_count": 9,
   "id": "5ff9792d-cb76-4374-92b8-c00ab45feb2a",
   "metadata": {},
   "outputs": [],
   "source": [
    "df['priority_binned'] = df['Priority'].map(priority_mapping)"
   ]
  },
  {
   "cell_type": "code",
   "execution_count": 10,
   "id": "948f897e-1cb7-4d42-bc84-82b38c23a9a1",
   "metadata": {},
   "outputs": [
    {
     "data": {
      "text/plain": [
       "priority_binned\n",
       "Low       10912\n",
       "Medium     9405\n",
       "High       1974\n",
       "Name: count, dtype: int64"
      ]
     },
     "execution_count": 10,
     "metadata": {},
     "output_type": "execute_result"
    }
   ],
   "source": [
    "df['priority_binned'].value_counts()"
   ]
  },
  {
   "cell_type": "code",
   "execution_count": 11,
   "id": "0baf51c8-6486-400c-818b-807a3726850e",
   "metadata": {},
   "outputs": [
    {
     "data": {
      "text/html": [
       "<div>\n",
       "<style scoped>\n",
       "    .dataframe tbody tr th:only-of-type {\n",
       "        vertical-align: middle;\n",
       "    }\n",
       "\n",
       "    .dataframe tbody tr th {\n",
       "        vertical-align: top;\n",
       "    }\n",
       "\n",
       "    .dataframe thead th {\n",
       "        text-align: right;\n",
       "    }\n",
       "</style>\n",
       "<table border=\"1\" class=\"dataframe\">\n",
       "  <thead>\n",
       "    <tr style=\"text-align: right;\">\n",
       "      <th></th>\n",
       "      <th>Priority</th>\n",
       "      <th>Created</th>\n",
       "      <th>Resolved</th>\n",
       "      <th>input_text</th>\n",
       "      <th>priority_binned</th>\n",
       "    </tr>\n",
       "  </thead>\n",
       "  <tbody>\n",
       "    <tr>\n",
       "      <th>0</th>\n",
       "      <td>Major</td>\n",
       "      <td>22/Oct/10 3:13 AM</td>\n",
       "      <td>27/Oct/10 1:48 AM</td>\n",
       "      <td>Webflow 2.2 problem when using MVC view resolver</td>\n",
       "      <td>Medium</td>\n",
       "    </tr>\n",
       "    <tr>\n",
       "      <th>1</th>\n",
       "      <td>Major</td>\n",
       "      <td>14/Oct/10 2:22 AM</td>\n",
       "      <td>27/Oct/10 1:03 AM</td>\n",
       "      <td>Regression in showing global messages only</td>\n",
       "      <td>Medium</td>\n",
       "    </tr>\n",
       "    <tr>\n",
       "      <th>2</th>\n",
       "      <td>Minor</td>\n",
       "      <td>28/Sep/10 2:42 PM</td>\n",
       "      <td>01/Oct/10 2:58 AM</td>\n",
       "      <td>FlowViewResponseStateManager should call deleg...</td>\n",
       "      <td>Low</td>\n",
       "    </tr>\n",
       "    <tr>\n",
       "      <th>3</th>\n",
       "      <td>Major</td>\n",
       "      <td>27/Sep/10 11:34 PM</td>\n",
       "      <td>28/Sep/10 9:35 AM</td>\n",
       "      <td>javax.faces.ViewState hidden field resolves to...</td>\n",
       "      <td>Medium</td>\n",
       "    </tr>\n",
       "    <tr>\n",
       "      <th>4</th>\n",
       "      <td>Major</td>\n",
       "      <td>27/Sep/10 11:28 PM</td>\n",
       "      <td>28/Sep/10 9:36 AM</td>\n",
       "      <td>FlowFacesContext.newInstance should take into ...</td>\n",
       "      <td>Medium</td>\n",
       "    </tr>\n",
       "    <tr>\n",
       "      <th>...</th>\n",
       "      <td>...</td>\n",
       "      <td>...</td>\n",
       "      <td>...</td>\n",
       "      <td>...</td>\n",
       "      <td>...</td>\n",
       "    </tr>\n",
       "    <tr>\n",
       "      <th>22647</th>\n",
       "      <td>Major</td>\n",
       "      <td>13/Aug/09 7:04 PM</td>\n",
       "      <td>04/Sep/09 4:07 AM</td>\n",
       "      <td>NPE when handling the empty namespace as a cus...</td>\n",
       "      <td>Medium</td>\n",
       "    </tr>\n",
       "    <tr>\n",
       "      <th>22648</th>\n",
       "      <td>Major</td>\n",
       "      <td>12/Aug/09 1:28 AM</td>\n",
       "      <td>08/Sep/09 3:51 AM</td>\n",
       "      <td>ConcurrentModificationException in SimpleJdbcC...</td>\n",
       "      <td>Medium</td>\n",
       "    </tr>\n",
       "    <tr>\n",
       "      <th>22649</th>\n",
       "      <td>Major</td>\n",
       "      <td>11/Aug/09 7:28 PM</td>\n",
       "      <td>28/Oct/09 6:09 AM</td>\n",
       "      <td>StatementCreatorUtils.setNull throws exception...</td>\n",
       "      <td>Medium</td>\n",
       "    </tr>\n",
       "    <tr>\n",
       "      <th>22650</th>\n",
       "      <td>Major</td>\n",
       "      <td>10/Aug/09 3:28 PM</td>\n",
       "      <td>06/Sep/09 11:48 PM</td>\n",
       "      <td>@Configurable BeanCurrentlyInCreationException...</td>\n",
       "      <td>Medium</td>\n",
       "    </tr>\n",
       "    <tr>\n",
       "      <th>22651</th>\n",
       "      <td>Major</td>\n",
       "      <td>10/Aug/09 3:02 AM</td>\n",
       "      <td>25/Aug/09 11:45 PM</td>\n",
       "      <td>JUnit 4.5 support broken</td>\n",
       "      <td>Medium</td>\n",
       "    </tr>\n",
       "  </tbody>\n",
       "</table>\n",
       "<p>22652 rows × 5 columns</p>\n",
       "</div>"
      ],
      "text/plain": [
       "      Priority             Created            Resolved  \\\n",
       "0        Major   22/Oct/10 3:13 AM   27/Oct/10 1:48 AM   \n",
       "1        Major   14/Oct/10 2:22 AM   27/Oct/10 1:03 AM   \n",
       "2        Minor   28/Sep/10 2:42 PM   01/Oct/10 2:58 AM   \n",
       "3        Major  27/Sep/10 11:34 PM   28/Sep/10 9:35 AM   \n",
       "4        Major  27/Sep/10 11:28 PM   28/Sep/10 9:36 AM   \n",
       "...        ...                 ...                 ...   \n",
       "22647    Major   13/Aug/09 7:04 PM   04/Sep/09 4:07 AM   \n",
       "22648    Major   12/Aug/09 1:28 AM   08/Sep/09 3:51 AM   \n",
       "22649    Major   11/Aug/09 7:28 PM   28/Oct/09 6:09 AM   \n",
       "22650    Major   10/Aug/09 3:28 PM  06/Sep/09 11:48 PM   \n",
       "22651    Major   10/Aug/09 3:02 AM  25/Aug/09 11:45 PM   \n",
       "\n",
       "                                              input_text priority_binned  \n",
       "0       Webflow 2.2 problem when using MVC view resolver          Medium  \n",
       "1             Regression in showing global messages only          Medium  \n",
       "2      FlowViewResponseStateManager should call deleg...             Low  \n",
       "3      javax.faces.ViewState hidden field resolves to...          Medium  \n",
       "4      FlowFacesContext.newInstance should take into ...          Medium  \n",
       "...                                                  ...             ...  \n",
       "22647  NPE when handling the empty namespace as a cus...          Medium  \n",
       "22648  ConcurrentModificationException in SimpleJdbcC...          Medium  \n",
       "22649  StatementCreatorUtils.setNull throws exception...          Medium  \n",
       "22650  @Configurable BeanCurrentlyInCreationException...          Medium  \n",
       "22651                           JUnit 4.5 support broken          Medium  \n",
       "\n",
       "[22652 rows x 5 columns]"
      ]
     },
     "execution_count": 11,
     "metadata": {},
     "output_type": "execute_result"
    }
   ],
   "source": [
    "df"
   ]
  },
  {
   "cell_type": "code",
   "execution_count": null,
   "id": "26e6a80b-343a-46e1-8670-a274a8cd38c2",
   "metadata": {},
   "outputs": [],
   "source": []
  },
  {
   "cell_type": "code",
   "execution_count": 12,
   "id": "f459ee27-2f84-4877-ab7a-a75ac737b87c",
   "metadata": {},
   "outputs": [],
   "source": [
    "df['bug_created_date'] = pd.to_datetime(df['Created'], format='%d/%b/%y %I:%M %p')\n",
    "df['bug_resolved_date'] = pd.to_datetime(df['Resolved'], format='%d/%b/%y %I:%M %p')\n",
    "\n",
    "# Calculate the difference in days between the created and resolved dates\n",
    "df['resolution_time_days'] = (df['bug_resolved_date'] - df['bug_created_date']).dt.total_seconds() / (60 * 60 * 24)\n"
   ]
  },
  {
   "cell_type": "code",
   "execution_count": 13,
   "id": "c7db7c4c-5f99-4b5f-a558-f2e642222b28",
   "metadata": {},
   "outputs": [],
   "source": [
    "df = df.drop(['Priority','bug_created_date','bug_resolved_date','Created','Resolved'],axis=1)"
   ]
  },
  {
   "cell_type": "code",
   "execution_count": 14,
   "id": "1c7a6e78-5c98-4d8f-b7e0-0cdf9118b76f",
   "metadata": {},
   "outputs": [
    {
     "data": {
      "text/html": [
       "<div>\n",
       "<style scoped>\n",
       "    .dataframe tbody tr th:only-of-type {\n",
       "        vertical-align: middle;\n",
       "    }\n",
       "\n",
       "    .dataframe tbody tr th {\n",
       "        vertical-align: top;\n",
       "    }\n",
       "\n",
       "    .dataframe thead th {\n",
       "        text-align: right;\n",
       "    }\n",
       "</style>\n",
       "<table border=\"1\" class=\"dataframe\">\n",
       "  <thead>\n",
       "    <tr style=\"text-align: right;\">\n",
       "      <th></th>\n",
       "      <th>input_text</th>\n",
       "      <th>priority_binned</th>\n",
       "      <th>resolution_time_days</th>\n",
       "    </tr>\n",
       "  </thead>\n",
       "  <tbody>\n",
       "    <tr>\n",
       "      <th>0</th>\n",
       "      <td>Webflow 2.2 problem when using MVC view resolver</td>\n",
       "      <td>Medium</td>\n",
       "      <td>4.940972</td>\n",
       "    </tr>\n",
       "    <tr>\n",
       "      <th>1</th>\n",
       "      <td>Regression in showing global messages only</td>\n",
       "      <td>Medium</td>\n",
       "      <td>12.945139</td>\n",
       "    </tr>\n",
       "    <tr>\n",
       "      <th>2</th>\n",
       "      <td>FlowViewResponseStateManager should call deleg...</td>\n",
       "      <td>Low</td>\n",
       "      <td>2.511111</td>\n",
       "    </tr>\n",
       "    <tr>\n",
       "      <th>3</th>\n",
       "      <td>javax.faces.ViewState hidden field resolves to...</td>\n",
       "      <td>Medium</td>\n",
       "      <td>0.417361</td>\n",
       "    </tr>\n",
       "    <tr>\n",
       "      <th>4</th>\n",
       "      <td>FlowFacesContext.newInstance should take into ...</td>\n",
       "      <td>Medium</td>\n",
       "      <td>0.422222</td>\n",
       "    </tr>\n",
       "    <tr>\n",
       "      <th>...</th>\n",
       "      <td>...</td>\n",
       "      <td>...</td>\n",
       "      <td>...</td>\n",
       "    </tr>\n",
       "    <tr>\n",
       "      <th>22647</th>\n",
       "      <td>NPE when handling the empty namespace as a cus...</td>\n",
       "      <td>Medium</td>\n",
       "      <td>21.377083</td>\n",
       "    </tr>\n",
       "    <tr>\n",
       "      <th>22648</th>\n",
       "      <td>ConcurrentModificationException in SimpleJdbcC...</td>\n",
       "      <td>Medium</td>\n",
       "      <td>27.099306</td>\n",
       "    </tr>\n",
       "    <tr>\n",
       "      <th>22649</th>\n",
       "      <td>StatementCreatorUtils.setNull throws exception...</td>\n",
       "      <td>Medium</td>\n",
       "      <td>77.445139</td>\n",
       "    </tr>\n",
       "    <tr>\n",
       "      <th>22650</th>\n",
       "      <td>@Configurable BeanCurrentlyInCreationException...</td>\n",
       "      <td>Medium</td>\n",
       "      <td>27.347222</td>\n",
       "    </tr>\n",
       "    <tr>\n",
       "      <th>22651</th>\n",
       "      <td>JUnit 4.5 support broken</td>\n",
       "      <td>Medium</td>\n",
       "      <td>15.863194</td>\n",
       "    </tr>\n",
       "  </tbody>\n",
       "</table>\n",
       "<p>22652 rows × 3 columns</p>\n",
       "</div>"
      ],
      "text/plain": [
       "                                              input_text priority_binned  \\\n",
       "0       Webflow 2.2 problem when using MVC view resolver          Medium   \n",
       "1             Regression in showing global messages only          Medium   \n",
       "2      FlowViewResponseStateManager should call deleg...             Low   \n",
       "3      javax.faces.ViewState hidden field resolves to...          Medium   \n",
       "4      FlowFacesContext.newInstance should take into ...          Medium   \n",
       "...                                                  ...             ...   \n",
       "22647  NPE when handling the empty namespace as a cus...          Medium   \n",
       "22648  ConcurrentModificationException in SimpleJdbcC...          Medium   \n",
       "22649  StatementCreatorUtils.setNull throws exception...          Medium   \n",
       "22650  @Configurable BeanCurrentlyInCreationException...          Medium   \n",
       "22651                           JUnit 4.5 support broken          Medium   \n",
       "\n",
       "       resolution_time_days  \n",
       "0                  4.940972  \n",
       "1                 12.945139  \n",
       "2                  2.511111  \n",
       "3                  0.417361  \n",
       "4                  0.422222  \n",
       "...                     ...  \n",
       "22647             21.377083  \n",
       "22648             27.099306  \n",
       "22649             77.445139  \n",
       "22650             27.347222  \n",
       "22651             15.863194  \n",
       "\n",
       "[22652 rows x 3 columns]"
      ]
     },
     "execution_count": 14,
     "metadata": {},
     "output_type": "execute_result"
    }
   ],
   "source": [
    "df"
   ]
  },
  {
   "cell_type": "code",
   "execution_count": 15,
   "id": "2c070c7a-25d8-4f48-9cf0-d89ced33891b",
   "metadata": {},
   "outputs": [],
   "source": [
    "resolution_bins = [0, 3, 14, np.inf]  # Example: Short-Term (0-3 days), Medium-Term (4-14 days), Long-Term (>14 days)\n",
    "resolution_labels = ['Short-Term', 'Medium-Term', 'Long-Term']\n",
    "df['bug_resolution_time'] = pd.cut(df['resolution_time_days'], bins=resolution_bins, labels=resolution_labels)\n"
   ]
  },
  {
   "cell_type": "code",
   "execution_count": 16,
   "id": "c57c9ed6-2f9b-40e6-97b9-8f71a8ae52b0",
   "metadata": {},
   "outputs": [
    {
     "data": {
      "text/plain": [
       "bug_resolution_time\n",
       "Short-Term     9118\n",
       "Long-Term      8933\n",
       "Medium-Term    4538\n",
       "Name: count, dtype: int64"
      ]
     },
     "execution_count": 16,
     "metadata": {},
     "output_type": "execute_result"
    }
   ],
   "source": [
    "df['bug_resolution_time'].value_counts()"
   ]
  },
  {
   "cell_type": "code",
   "execution_count": 17,
   "id": "71673bf4-4af9-43ff-b1e7-024d5e2d4b38",
   "metadata": {},
   "outputs": [],
   "source": [
    "df = df.drop(['resolution_time_days'],axis=1)"
   ]
  },
  {
   "cell_type": "code",
   "execution_count": 18,
   "id": "113e88cf-2c4e-463f-9474-f541bab1800e",
   "metadata": {},
   "outputs": [
    {
     "data": {
      "text/html": [
       "<div>\n",
       "<style scoped>\n",
       "    .dataframe tbody tr th:only-of-type {\n",
       "        vertical-align: middle;\n",
       "    }\n",
       "\n",
       "    .dataframe tbody tr th {\n",
       "        vertical-align: top;\n",
       "    }\n",
       "\n",
       "    .dataframe thead th {\n",
       "        text-align: right;\n",
       "    }\n",
       "</style>\n",
       "<table border=\"1\" class=\"dataframe\">\n",
       "  <thead>\n",
       "    <tr style=\"text-align: right;\">\n",
       "      <th></th>\n",
       "      <th>input_text</th>\n",
       "      <th>priority_binned</th>\n",
       "      <th>bug_resolution_time</th>\n",
       "    </tr>\n",
       "  </thead>\n",
       "  <tbody>\n",
       "    <tr>\n",
       "      <th>0</th>\n",
       "      <td>Webflow 2.2 problem when using MVC view resolver</td>\n",
       "      <td>Medium</td>\n",
       "      <td>Medium-Term</td>\n",
       "    </tr>\n",
       "    <tr>\n",
       "      <th>1</th>\n",
       "      <td>Regression in showing global messages only</td>\n",
       "      <td>Medium</td>\n",
       "      <td>Medium-Term</td>\n",
       "    </tr>\n",
       "    <tr>\n",
       "      <th>2</th>\n",
       "      <td>FlowViewResponseStateManager should call deleg...</td>\n",
       "      <td>Low</td>\n",
       "      <td>Short-Term</td>\n",
       "    </tr>\n",
       "    <tr>\n",
       "      <th>3</th>\n",
       "      <td>javax.faces.ViewState hidden field resolves to...</td>\n",
       "      <td>Medium</td>\n",
       "      <td>Short-Term</td>\n",
       "    </tr>\n",
       "    <tr>\n",
       "      <th>4</th>\n",
       "      <td>FlowFacesContext.newInstance should take into ...</td>\n",
       "      <td>Medium</td>\n",
       "      <td>Short-Term</td>\n",
       "    </tr>\n",
       "    <tr>\n",
       "      <th>...</th>\n",
       "      <td>...</td>\n",
       "      <td>...</td>\n",
       "      <td>...</td>\n",
       "    </tr>\n",
       "    <tr>\n",
       "      <th>22647</th>\n",
       "      <td>NPE when handling the empty namespace as a cus...</td>\n",
       "      <td>Medium</td>\n",
       "      <td>Long-Term</td>\n",
       "    </tr>\n",
       "    <tr>\n",
       "      <th>22648</th>\n",
       "      <td>ConcurrentModificationException in SimpleJdbcC...</td>\n",
       "      <td>Medium</td>\n",
       "      <td>Long-Term</td>\n",
       "    </tr>\n",
       "    <tr>\n",
       "      <th>22649</th>\n",
       "      <td>StatementCreatorUtils.setNull throws exception...</td>\n",
       "      <td>Medium</td>\n",
       "      <td>Long-Term</td>\n",
       "    </tr>\n",
       "    <tr>\n",
       "      <th>22650</th>\n",
       "      <td>@Configurable BeanCurrentlyInCreationException...</td>\n",
       "      <td>Medium</td>\n",
       "      <td>Long-Term</td>\n",
       "    </tr>\n",
       "    <tr>\n",
       "      <th>22651</th>\n",
       "      <td>JUnit 4.5 support broken</td>\n",
       "      <td>Medium</td>\n",
       "      <td>Long-Term</td>\n",
       "    </tr>\n",
       "  </tbody>\n",
       "</table>\n",
       "<p>22652 rows × 3 columns</p>\n",
       "</div>"
      ],
      "text/plain": [
       "                                              input_text priority_binned  \\\n",
       "0       Webflow 2.2 problem when using MVC view resolver          Medium   \n",
       "1             Regression in showing global messages only          Medium   \n",
       "2      FlowViewResponseStateManager should call deleg...             Low   \n",
       "3      javax.faces.ViewState hidden field resolves to...          Medium   \n",
       "4      FlowFacesContext.newInstance should take into ...          Medium   \n",
       "...                                                  ...             ...   \n",
       "22647  NPE when handling the empty namespace as a cus...          Medium   \n",
       "22648  ConcurrentModificationException in SimpleJdbcC...          Medium   \n",
       "22649  StatementCreatorUtils.setNull throws exception...          Medium   \n",
       "22650  @Configurable BeanCurrentlyInCreationException...          Medium   \n",
       "22651                           JUnit 4.5 support broken          Medium   \n",
       "\n",
       "      bug_resolution_time  \n",
       "0             Medium-Term  \n",
       "1             Medium-Term  \n",
       "2              Short-Term  \n",
       "3              Short-Term  \n",
       "4              Short-Term  \n",
       "...                   ...  \n",
       "22647           Long-Term  \n",
       "22648           Long-Term  \n",
       "22649           Long-Term  \n",
       "22650           Long-Term  \n",
       "22651           Long-Term  \n",
       "\n",
       "[22652 rows x 3 columns]"
      ]
     },
     "execution_count": 18,
     "metadata": {},
     "output_type": "execute_result"
    }
   ],
   "source": [
    "df"
   ]
  },
  {
   "cell_type": "code",
   "execution_count": 19,
   "id": "a96666c4-b180-40d1-9d24-c8c1f22230c4",
   "metadata": {},
   "outputs": [],
   "source": [
    "#df = df.dropna(subset=['priority_binned'])\n",
    "#df = df.dropna(subset=['bug_resolution_time'])"
   ]
  },
  {
   "cell_type": "code",
   "execution_count": 20,
   "id": "efffa10c-090a-4c16-be7b-fa8258ec7b7d",
   "metadata": {},
   "outputs": [
    {
     "data": {
      "text/plain": [
       "priority_binned\n",
       "Low       10912\n",
       "Medium     9405\n",
       "High       1974\n",
       "Name: count, dtype: int64"
      ]
     },
     "execution_count": 20,
     "metadata": {},
     "output_type": "execute_result"
    }
   ],
   "source": [
    "df['priority_binned'].value_counts()"
   ]
  },
  {
   "cell_type": "code",
   "execution_count": 21,
   "id": "7a5470ed-1bf0-46e9-b37d-4649ea6e39fe",
   "metadata": {},
   "outputs": [],
   "source": [
    "df['priority_binned'] = df['priority_binned'].fillna(\"High\")"
   ]
  },
  {
   "cell_type": "code",
   "execution_count": 22,
   "id": "135043fd-7453-42d8-82a2-0a488605b0b6",
   "metadata": {},
   "outputs": [
    {
     "data": {
      "text/plain": [
       "bug_resolution_time\n",
       "Short-Term     9118\n",
       "Long-Term      8933\n",
       "Medium-Term    4538\n",
       "Name: count, dtype: int64"
      ]
     },
     "execution_count": 22,
     "metadata": {},
     "output_type": "execute_result"
    }
   ],
   "source": [
    "df['bug_resolution_time'].value_counts()"
   ]
  },
  {
   "cell_type": "code",
   "execution_count": 23,
   "id": "3b87956a-be81-491b-89c3-722efc73c467",
   "metadata": {},
   "outputs": [],
   "source": [
    "df['bug_resolution_time'] = df['bug_resolution_time'].fillna(\"Medium-Term\")"
   ]
  },
  {
   "cell_type": "code",
   "execution_count": null,
   "id": "f87038c5-e4f7-4f3e-bb06-548d28c2a5b3",
   "metadata": {},
   "outputs": [],
   "source": []
  },
  {
   "cell_type": "code",
   "execution_count": 24,
   "id": "81659258-8cd0-4a84-b4ec-f2e1c712fa90",
   "metadata": {},
   "outputs": [
    {
     "data": {
      "text/html": [
       "<div>\n",
       "<style scoped>\n",
       "    .dataframe tbody tr th:only-of-type {\n",
       "        vertical-align: middle;\n",
       "    }\n",
       "\n",
       "    .dataframe tbody tr th {\n",
       "        vertical-align: top;\n",
       "    }\n",
       "\n",
       "    .dataframe thead th {\n",
       "        text-align: right;\n",
       "    }\n",
       "</style>\n",
       "<table border=\"1\" class=\"dataframe\">\n",
       "  <thead>\n",
       "    <tr style=\"text-align: right;\">\n",
       "      <th></th>\n",
       "      <th>input_text</th>\n",
       "      <th>priority_binned</th>\n",
       "      <th>bug_resolution_time</th>\n",
       "    </tr>\n",
       "  </thead>\n",
       "  <tbody>\n",
       "  </tbody>\n",
       "</table>\n",
       "</div>"
      ],
      "text/plain": [
       "Empty DataFrame\n",
       "Columns: [input_text, priority_binned, bug_resolution_time]\n",
       "Index: []"
      ]
     },
     "execution_count": 24,
     "metadata": {},
     "output_type": "execute_result"
    }
   ],
   "source": [
    "df[df['input_text'].isna()]"
   ]
  },
  {
   "cell_type": "code",
   "execution_count": 25,
   "id": "a335a37c-5edb-42dd-9a59-4d15d30da8d4",
   "metadata": {},
   "outputs": [],
   "source": [
    "df.to_csv(\"combined_dataset.csv\",index=False)"
   ]
  },
  {
   "cell_type": "code",
   "execution_count": 26,
   "id": "cc59ff1a-4489-4e9c-aaf8-94835c1a22d0",
   "metadata": {},
   "outputs": [
    {
     "data": {
      "text/html": [
       "<div>\n",
       "<style scoped>\n",
       "    .dataframe tbody tr th:only-of-type {\n",
       "        vertical-align: middle;\n",
       "    }\n",
       "\n",
       "    .dataframe tbody tr th {\n",
       "        vertical-align: top;\n",
       "    }\n",
       "\n",
       "    .dataframe thead th {\n",
       "        text-align: right;\n",
       "    }\n",
       "</style>\n",
       "<table border=\"1\" class=\"dataframe\">\n",
       "  <thead>\n",
       "    <tr style=\"text-align: right;\">\n",
       "      <th></th>\n",
       "      <th>input_text</th>\n",
       "      <th>priority_binned</th>\n",
       "      <th>bug_resolution_time</th>\n",
       "    </tr>\n",
       "  </thead>\n",
       "  <tbody>\n",
       "    <tr>\n",
       "      <th>0</th>\n",
       "      <td>Webflow 2.2 problem when using MVC view resolv...</td>\n",
       "      <td>Medium</td>\n",
       "      <td>Medium-Term</td>\n",
       "    </tr>\n",
       "    <tr>\n",
       "      <th>1</th>\n",
       "      <td>Regression in showing global messages only Glo...</td>\n",
       "      <td>Medium</td>\n",
       "      <td>Medium-Term</td>\n",
       "    </tr>\n",
       "    <tr>\n",
       "      <th>2</th>\n",
       "      <td>FlowViewResponseStateManager should call deleg...</td>\n",
       "      <td>Low</td>\n",
       "      <td>Short-Term</td>\n",
       "    </tr>\n",
       "    <tr>\n",
       "      <th>3</th>\n",
       "      <td>javax.faces.ViewState hidden field resolves to...</td>\n",
       "      <td>Medium</td>\n",
       "      <td>Short-Term</td>\n",
       "    </tr>\n",
       "    <tr>\n",
       "      <th>4</th>\n",
       "      <td>FlowFacesContext.newInstance should take into ...</td>\n",
       "      <td>Medium</td>\n",
       "      <td>Short-Term</td>\n",
       "    </tr>\n",
       "    <tr>\n",
       "      <th>...</th>\n",
       "      <td>...</td>\n",
       "      <td>...</td>\n",
       "      <td>...</td>\n",
       "    </tr>\n",
       "    <tr>\n",
       "      <th>22647</th>\n",
       "      <td>NPE when handling the empty namespace as a cus...</td>\n",
       "      <td>Medium</td>\n",
       "      <td>Long-Term</td>\n",
       "    </tr>\n",
       "    <tr>\n",
       "      <th>22648</th>\n",
       "      <td>ConcurrentModificationException in SimpleJdbcC...</td>\n",
       "      <td>Medium</td>\n",
       "      <td>Long-Term</td>\n",
       "    </tr>\n",
       "    <tr>\n",
       "      <th>22649</th>\n",
       "      <td>StatementCreatorUtils.setNull throws exception...</td>\n",
       "      <td>Medium</td>\n",
       "      <td>Long-Term</td>\n",
       "    </tr>\n",
       "    <tr>\n",
       "      <th>22650</th>\n",
       "      <td>@Configurable BeanCurrentlyInCreationException...</td>\n",
       "      <td>Medium</td>\n",
       "      <td>Long-Term</td>\n",
       "    </tr>\n",
       "    <tr>\n",
       "      <th>22651</th>\n",
       "      <td>JUnit 4.5 support broken If you use JUnit 4.5 ...</td>\n",
       "      <td>Medium</td>\n",
       "      <td>Long-Term</td>\n",
       "    </tr>\n",
       "  </tbody>\n",
       "</table>\n",
       "<p>22652 rows × 3 columns</p>\n",
       "</div>"
      ],
      "text/plain": [
       "                                              input_text priority_binned  \\\n",
       "0      Webflow 2.2 problem when using MVC view resolv...          Medium   \n",
       "1      Regression in showing global messages only Glo...          Medium   \n",
       "2      FlowViewResponseStateManager should call deleg...             Low   \n",
       "3      javax.faces.ViewState hidden field resolves to...          Medium   \n",
       "4      FlowFacesContext.newInstance should take into ...          Medium   \n",
       "...                                                  ...             ...   \n",
       "22647  NPE when handling the empty namespace as a cus...          Medium   \n",
       "22648  ConcurrentModificationException in SimpleJdbcC...          Medium   \n",
       "22649  StatementCreatorUtils.setNull throws exception...          Medium   \n",
       "22650  @Configurable BeanCurrentlyInCreationException...          Medium   \n",
       "22651  JUnit 4.5 support broken If you use JUnit 4.5 ...          Medium   \n",
       "\n",
       "      bug_resolution_time  \n",
       "0             Medium-Term  \n",
       "1             Medium-Term  \n",
       "2              Short-Term  \n",
       "3              Short-Term  \n",
       "4              Short-Term  \n",
       "...                   ...  \n",
       "22647           Long-Term  \n",
       "22648           Long-Term  \n",
       "22649           Long-Term  \n",
       "22650           Long-Term  \n",
       "22651           Long-Term  \n",
       "\n",
       "[22652 rows x 3 columns]"
      ]
     },
     "execution_count": 26,
     "metadata": {},
     "output_type": "execute_result"
    }
   ],
   "source": [
    "df"
   ]
  },
  {
   "cell_type": "code",
   "execution_count": 29,
   "id": "caa361f3-fd35-4f6f-9306-09187740404f",
   "metadata": {},
   "outputs": [
    {
     "name": "stdout",
     "output_type": "stream",
     "text": [
      "Priority Distribution:\n",
      " priority_binned\n",
      "Low       10912\n",
      "Medium     9405\n",
      "High       2335\n",
      "Name: count, dtype: int64\n",
      "\n",
      "Resolution Time Distribution:\n",
      " bug_resolution_time\n",
      "Short-Term     9118\n",
      "Long-Term      8933\n",
      "Medium-Term    4601\n",
      "Name: count, dtype: int64\n"
     ]
    }
   ],
   "source": [
    "priority_distribution = df['priority_binned'].value_counts()\n",
    "resolution_time_distribution = df['bug_resolution_time'].value_counts()\n",
    "\n",
    "print(\"Priority Distribution:\\n\", priority_distribution)\n",
    "print(\"\\nResolution Time Distribution:\\n\", resolution_time_distribution)"
   ]
  },
  {
   "cell_type": "code",
   "execution_count": null,
   "id": "d5ab4bde-71f1-4660-988b-7a9fcd301677",
   "metadata": {},
   "outputs": [],
   "source": []
  }
 ],
 "metadata": {
  "kernelspec": {
   "display_name": "test_env",
   "language": "python",
   "name": "test_env"
  },
  "language_info": {
   "codemirror_mode": {
    "name": "ipython",
    "version": 3
   },
   "file_extension": ".py",
   "mimetype": "text/x-python",
   "name": "python",
   "nbconvert_exporter": "python",
   "pygments_lexer": "ipython3",
   "version": "3.9.19"
  }
 },
 "nbformat": 4,
 "nbformat_minor": 5
}
