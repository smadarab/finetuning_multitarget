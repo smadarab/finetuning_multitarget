{
 "cells": [
  {
   "cell_type": "code",
   "execution_count": 1,
   "id": "7b390ec7-0da3-4849-92bb-9247f1f9484c",
   "metadata": {},
   "outputs": [],
   "source": [
    "import pandas as pd\n",
    "import re\n",
    "import torch\n",
    "import torch.nn as nn\n",
    "import torch.nn.functional as F\n",
    "from transformers import BertTokenizer, BertModel\n",
    "from sklearn.preprocessing import LabelEncoder\n",
    "from sklearn.model_selection import train_test_split\n",
    "from sklearn.metrics import accuracy_score, precision_recall_fscore_support\n",
    "from sklearn.utils.class_weight import compute_class_weight\n",
    "from imblearn.over_sampling import SMOTE\n",
    "from torch.utils.data import TensorDataset, DataLoader, RandomSampler, SequentialSampler\n",
    "from torch.optim import AdamW\n",
    "from torch.nn.utils import clip_grad_norm_\n",
    "import numpy as np\n",
    "from torch.cuda.amp import autocast, GradScaler\n",
    "from imblearn.combine import SMOTEENN \n"
   ]
  },
  {
   "cell_type": "code",
   "execution_count": 2,
   "id": "c997f3c0-fb0e-4f35-829b-911a7fcb221c",
   "metadata": {},
   "outputs": [
    {
     "name": "stderr",
     "output_type": "stream",
     "text": [
      "C:\\Users\\E009819\\AppData\\Local\\miniconda3\\envs\\test_env\\lib\\site-packages\\transformers\\tokenization_utils_base.py:1601: FutureWarning: `clean_up_tokenization_spaces` was not set. It will be set to `True` by default. This behavior will be depracted in transformers v4.45, and will be then set to `False` by default. For more details check this issue: https://github.com/huggingface/transformers/issues/31884\n",
      "  warnings.warn(\n"
     ]
    }
   ],
   "source": [
    "\n",
    "# Load your dataset\n",
    "file_path = 'F:\\\\finetunining sample\\\\combined_dataset.csv'\n",
    "dataset = pd.read_csv(file_path)\n",
    "# dataset = dataset.iloc[:10000]\n",
    "\n",
    "# Initialize the tokenizer\n",
    "tokenizer = BertTokenizer.from_pretrained('bert-base-uncased')\n",
    "\n",
    "# Preprocessing steps\n",
    "dataset['input_text'] = dataset['input_text'].str.lower()\n",
    "dataset['input_text'] = dataset['input_text'].apply(lambda x: re.sub(r'[^a-zA-Z0-9\\s.,!?]', '', x))\n",
    "dataset['input_text_tokens'] = dataset['input_text'].apply(lambda x: tokenizer.tokenize(x))\n",
    "max_length = 128\n",
    "\n",
    "dataset['input_text_padded'] = dataset['input_text_tokens'].apply(\n",
    "    lambda x: tokenizer.convert_tokens_to_ids(x)[:max_length] + [0] * (max_length - len(x))\n",
    ")\n"
   ]
  },
  {
   "cell_type": "code",
   "execution_count": 3,
   "id": "895ded33-0411-4394-93f0-d73c6d1c43ef",
   "metadata": {},
   "outputs": [],
   "source": [
    "\n",
    "# Encode the target variables\n",
    "label_encoder_priority = LabelEncoder()\n",
    "label_encoder_resolution = LabelEncoder()\n",
    "\n",
    "dataset['priority_encoded'] = label_encoder_priority.fit_transform(dataset['priority_binned'])\n",
    "dataset['resolution_encoded'] = label_encoder_resolution.fit_transform(dataset['bug_resolution_time'])"
   ]
  },
  {
   "cell_type": "code",
   "execution_count": 5,
   "id": "20a84d2e-5e99-4ba5-85cd-433d274172d3",
   "metadata": {},
   "outputs": [
    {
     "data": {
      "text/plain": [
       "priority_encoded\n",
       "1    10912\n",
       "2     9405\n",
       "0     2335\n",
       "Name: count, dtype: int64"
      ]
     },
     "execution_count": 5,
     "metadata": {},
     "output_type": "execute_result"
    }
   ],
   "source": [
    "dataset['priority_encoded'].value_counts()"
   ]
  },
  {
   "cell_type": "code",
   "execution_count": 6,
   "id": "05ecfa73-0cb1-4d21-8d0a-4c16b41c5e95",
   "metadata": {},
   "outputs": [],
   "source": []
  },
  {
   "cell_type": "code",
   "execution_count": 8,
   "id": "2c7ce831-808b-4234-992d-36f328757da2",
   "metadata": {},
   "outputs": [
    {
     "data": {
      "text/plain": [
       "resolution_encoded\n",
       "2    1984\n",
       "0    1653\n",
       "1    1033\n",
       "Name: count, dtype: int64"
      ]
     },
     "execution_count": 8,
     "metadata": {},
     "output_type": "execute_result"
    }
   ],
   "source": [
    "dataset['resolution_encoded'].value_counts()"
   ]
  },
  {
   "cell_type": "code",
   "execution_count": 70,
   "id": "64759699-11f0-43bf-bfb6-e2e94a6b19d1",
   "metadata": {},
   "outputs": [],
   "source": [
    "\n",
    "# Encode the target variables\n",
    "label_encoder_priority = LabelEncoder()\n",
    "label_encoder_resolution = LabelEncoder()\n",
    "\n",
    "dataset['priority_encoded'] = label_encoder_priority.fit_transform(dataset['priority_binned'])\n",
    "dataset['resolution_encoded'] = label_encoder_resolution.fit_transform(dataset['bug_resolution_time'])\n",
    "\n",
    "# Split dataset into train, validation, and test sets\n",
    "train_df, test_df = train_test_split(dataset, test_size=0.2, random_state=42, stratify=dataset[['priority_encoded', 'resolution_encoded']])\n",
    "val_df, test_df = train_test_split(test_df, test_size=0.5, random_state=42, stratify=test_df[['priority_encoded', 'resolution_encoded']])\n",
    "\n",
    "# Convert columns to tensors\n",
    "def convert_to_tensor_with_mask(df, feature_col, target_col):\n",
    "    features = torch.tensor(df[feature_col].tolist(), dtype=torch.long).cuda()\n",
    "    attention_mask = (features != 0).long().cuda()\n",
    "    targets = torch.tensor(df[target_col].tolist(), dtype=torch.long).cuda()\n",
    "    return features, attention_mask, targets\n",
    "\n",
    "train_features, train_attention_mask, train_priority = convert_to_tensor_with_mask(train_df, 'input_text_padded', 'priority_encoded')\n",
    "train_features, train_attention_mask, train_resolution = convert_to_tensor_with_mask(train_df, 'input_text_padded', 'resolution_encoded')\n",
    "\n",
    "val_features, val_attention_mask, val_priority = convert_to_tensor_with_mask(val_df, 'input_text_padded', 'priority_encoded')\n",
    "val_features, val_attention_mask, val_resolution = convert_to_tensor_with_mask(val_df, 'input_text_padded', 'resolution_encoded')\n"
   ]
  },
  {
   "cell_type": "code",
   "execution_count": 71,
   "id": "92dc1e3a-2eac-42f4-9f18-f4086a073c24",
   "metadata": {},
   "outputs": [
    {
     "name": "stdout",
     "output_type": "stream",
     "text": [
      "Original X_train size: (18121, 128)\n",
      "Original y_train_priority size: (18121,)\n",
      "Original y_train_resolution size: (18121,)\n"
     ]
    }
   ],
   "source": [
    "\n",
    "# SMOTE for class imbalance\n",
    "X_train = np.array(train_df['input_text_padded'].tolist())\n",
    "y_train_priority = np.array(train_df['priority_encoded'])\n",
    "y_train_resolution = np.array(train_df['resolution_encoded'])\n",
    "\n",
    "print(f\"Original X_train size: {X_train.shape}\")\n",
    "print(f\"Original y_train_priority size: {y_train_priority.shape}\")\n",
    "print(f\"Original y_train_resolution size: {y_train_resolution.shape}\")\n",
    "# Apply SMOTE to each target separately\n",
    "smote_priority = SMOTE(random_state=42)\n",
    "X_train_smote, y_train_priority_smote = smote_priority.fit_resample(X_train, y_train_priority)\n",
    "\n",
    "smote_resolution = SMOTE(random_state=42)\n",
    "X_train_smote, y_train_resolution_smote = smote_resolution.fit_resample(X_train, y_train_resolution)\n"
   ]
  },
  {
   "cell_type": "code",
   "execution_count": 73,
   "id": "069c0cc2-3332-4f9f-a315-9baba6e17666",
   "metadata": {},
   "outputs": [
    {
     "data": {
      "text/plain": [
       "1    8730\n",
       "2    8730\n",
       "0    8730\n",
       "Name: count, dtype: int64"
      ]
     },
     "execution_count": 73,
     "metadata": {},
     "output_type": "execute_result"
    }
   ],
   "source": [
    "pd.Series(y_train_priority_smote).value_counts()"
   ]
  },
  {
   "cell_type": "code",
   "execution_count": 74,
   "id": "8da2672b-f5cb-4b65-ac1c-62b2bc9a7e60",
   "metadata": {},
   "outputs": [
    {
     "data": {
      "text/plain": [
       "1    7294\n",
       "0    7294\n",
       "2    7294\n",
       "Name: count, dtype: int64"
      ]
     },
     "execution_count": 74,
     "metadata": {},
     "output_type": "execute_result"
    }
   ],
   "source": [
    "pd.Series(y_train_resolution_smote).value_counts()"
   ]
  },
  {
   "cell_type": "code",
   "execution_count": null,
   "id": "b6151d67-eb9d-4497-9818-de50445e38ca",
   "metadata": {},
   "outputs": [],
   "source": []
  },
  {
   "cell_type": "code",
   "execution_count": 75,
   "id": "c1cdf3d5-f183-4f9d-95a6-9893dfb34a36",
   "metadata": {},
   "outputs": [
    {
     "name": "stdout",
     "output_type": "stream",
     "text": [
      "SMOTE X_train_smote size: (21882, 128)\n",
      "SMOTE y_train_priority_smote size: (21882,)\n",
      "SMOTE y_train_resolution_smote size: (21882,)\n"
     ]
    }
   ],
   "source": [
    "\n",
    "val = pd.Series(y_train_priority_smote)\n",
    "index_vals = list(val[val==1].index[:pd.Series(y_train_resolution_smote).value_counts()[0]]) + list(val[val==0].index[:pd.Series(y_train_resolution_smote).value_counts()[0]]) + list(val[val==2].index[:pd.Series(y_train_resolution_smote).value_counts()[0]])\n",
    "val = val.iloc[index_vals]\n",
    "y_train_priority_smote = np.array(val)\n",
    "\n",
    "print(f\"SMOTE X_train_smote size: {X_train_smote.shape}\")\n",
    "print(f\"SMOTE y_train_priority_smote size: {y_train_priority_smote.shape}\")\n",
    "print(f\"SMOTE y_train_resolution_smote size: {y_train_resolution_smote.shape}\")"
   ]
  },
  {
   "cell_type": "code",
   "execution_count": null,
   "id": "d347b2d1-e252-443b-9cb9-019f0a7b490f",
   "metadata": {},
   "outputs": [],
   "source": []
  }
 ],
 "metadata": {
  "kernelspec": {
   "display_name": "test_env",
   "language": "python",
   "name": "test_env"
  },
  "language_info": {
   "codemirror_mode": {
    "name": "ipython",
    "version": 3
   },
   "file_extension": ".py",
   "mimetype": "text/x-python",
   "name": "python",
   "nbconvert_exporter": "python",
   "pygments_lexer": "ipython3",
   "version": "3.9.19"
  }
 },
 "nbformat": 4,
 "nbformat_minor": 5
}
